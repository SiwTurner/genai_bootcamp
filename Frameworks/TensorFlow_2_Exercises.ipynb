{
  "cells": [
    {
      "cell_type": "markdown",
      "id": "8601d189",
      "metadata": {
        "id": "8601d189"
      },
      "source": [
        "\n",
        "# TensorFlow 2 Exercises for Basic Tensor Manipulation\n",
        "\n",
        "This notebook provides a set of exercises designed to familiarize you with the basics of tensor manipulation in TensorFlow 2,\n",
        "which is essential for handling Large Language Models (LLMs).\n",
        "\n",
        "## Contents\n",
        "1. Tensor Basics\n",
        "2. Tensor Operations\n",
        "3. Manipulating Tensor Shapes\n",
        "4. Indexing and Slicing\n",
        "5. Broadcasting\n",
        "6. Gradients and Differentiation\n",
        "7. Simple Neural Network Components\n",
        "8. Data Loading and Preprocessing\n",
        "\n",
        "Each section will include a brief explanation followed by practical exercises.\n"
      ]
    },
    {
      "cell_type": "markdown",
      "id": "216324e4",
      "metadata": {
        "id": "216324e4"
      },
      "source": [
        "\n",
        "## 1. Tensor Basics\n",
        "\n",
        "**Objective**: Understand how to create tensors, and learn about their types and shapes.\n",
        "\n",
        "**Exercises**:\n",
        "1. Create a scalar tensor (0-D tensor) with a specific value.\n",
        "2. Create a 1-D tensor (vector) with 5 elements.\n",
        "3. Create a 2-D tensor (matrix) of shape (3, 3).\n",
        "4. Find the data type (`dtype`) of the tensors created above.\n",
        "5. Convert a numpy array to a TensorFlow tensor.\n"
      ]
    },
    {
      "cell_type": "markdown",
      "source": [
        "prompt: explain what a tensor is and what the purpose of it is compared to a matrix or array\n",
        "\n",
        "A tensor is a multidimensional array, similar to a matrix or an array in other programming languages. However, tensors are specifically designed for use in TensorFlow and other deep learning frameworks.\n",
        "\n",
        "**Key Differences:**\n",
        "\n",
        "1. **Dimensions**: Tensors can have any number of dimensions, while matrices are typically limited to two dimensions.\n",
        "2. **Data Types**: Tensors support a wider range of data types, including floating-point numbers, integers, strings, and booleans.\n",
        "3. **Operations**: TensorFlow provides a rich set of operations specifically designed for tensors, including matrix multiplication, convolutions, and other operations commonly used in deep learning.\n",
        "4. **Gradient Computation**: Tensors are designed to be used with TensorFlow's automatic differentiation capabilities, which allow for efficient computation of gradients for training deep learning models.\n",
        "\n",
        "**Purpose:**\n",
        "\n",
        "Tensors are used in TensorFlow to represent various data structures, such as input data, model parameters, and intermediate calculations. They are essential for building and training deep learning models, as they enable efficient manipulation and processing of large amounts of data."
      ],
      "metadata": {
        "id": "YXLCWkhj-2KP"
      },
      "id": "YXLCWkhj-2KP"
    },
    {
      "cell_type": "code",
      "source": [
        "# prompt: creaTE A SCALAR TENSOR 0-D TENSOR WITH A SPECIFIC VALUE\n",
        "\n",
        "import tensorflow as tf\n",
        "\n",
        "# Create a scalar tensor with value 10\n",
        "scalar_tensor = tf.constant(10)\n",
        "\n",
        "# Print the scalar tensor\n",
        "print(scalar_tensor)\n"
      ],
      "metadata": {
        "id": "Ra4x1Eod5e7G",
        "outputId": "4976659a-e9ba-4583-8ae8-8941bc655e4e",
        "colab": {
          "base_uri": "https://localhost:8080/"
        }
      },
      "id": "Ra4x1Eod5e7G",
      "execution_count": 2,
      "outputs": [
        {
          "output_type": "stream",
          "name": "stdout",
          "text": [
            "tf.Tensor(10, shape=(), dtype=int32)\n"
          ]
        }
      ]
    },
    {
      "cell_type": "code",
      "source": [
        "d1_tensor = tf.constant([1, 2, 3, 4, 5])\n",
        "print(d1_tensor)"
      ],
      "metadata": {
        "id": "YLdi86MB55CA",
        "outputId": "7bfc03c8-a634-447c-c3f4-319e6b2934b9",
        "colab": {
          "base_uri": "https://localhost:8080/"
        }
      },
      "id": "YLdi86MB55CA",
      "execution_count": null,
      "outputs": [
        {
          "output_type": "stream",
          "name": "stdout",
          "text": [
            "tf.Tensor([1 2 3 4 5], shape=(5,), dtype=int32)\n"
          ]
        }
      ]
    },
    {
      "cell_type": "code",
      "source": [
        "d2_tensor = tf.constant([[1, 2, 3], [4, 5, 6], [10, 4, 9]])\n",
        "print(d2_tensor)"
      ],
      "metadata": {
        "id": "fhRpGjTC6FJH",
        "outputId": "0cd498cc-5b60-4ffe-9458-5830ba953f2f",
        "colab": {
          "base_uri": "https://localhost:8080/"
        }
      },
      "id": "fhRpGjTC6FJH",
      "execution_count": null,
      "outputs": [
        {
          "output_type": "stream",
          "name": "stdout",
          "text": [
            "tf.Tensor(\n",
            "[[ 1  2  3]\n",
            " [ 4  5  6]\n",
            " [10  4  9]], shape=(3, 3), dtype=int32)\n"
          ]
        }
      ]
    },
    {
      "cell_type": "code",
      "source": [
        "scalar_tensor.dtype\n",
        "d1_tensor.dtype\n",
        "d2_tensor.dtype"
      ],
      "metadata": {
        "id": "SyDRs0eS6ic5",
        "outputId": "ddd182f5-e53b-4dcf-cd12-2b58d0209382",
        "colab": {
          "base_uri": "https://localhost:8080/"
        }
      },
      "id": "SyDRs0eS6ic5",
      "execution_count": null,
      "outputs": [
        {
          "output_type": "execute_result",
          "data": {
            "text/plain": [
              "tf.int32"
            ]
          },
          "metadata": {},
          "execution_count": 10
        }
      ]
    },
    {
      "cell_type": "code",
      "source": [
        "# prompt: create a numpy array and convert to tensor\n",
        "\n",
        "import numpy as np\n",
        "\n",
        "# Create a numpy array\n",
        "numpy_array = np.array([1, 2, 3, 4, 5])\n",
        "\n",
        "# Convert the numpy array to a TensorFlow tensor\n",
        "tensor = tf.constant(numpy_array)\n",
        "\n",
        "# Print the tensor\n",
        "print(tensor)\n"
      ],
      "metadata": {
        "id": "z5mkmVhD6rhK",
        "outputId": "9b0cd00a-a53c-49da-d60f-da474b2b20c0",
        "colab": {
          "base_uri": "https://localhost:8080/"
        }
      },
      "id": "z5mkmVhD6rhK",
      "execution_count": null,
      "outputs": [
        {
          "output_type": "stream",
          "name": "stdout",
          "text": [
            "tf.Tensor([1 2 3 4 5], shape=(5,), dtype=int64)\n"
          ]
        }
      ]
    },
    {
      "cell_type": "markdown",
      "id": "02281206",
      "metadata": {
        "id": "02281206"
      },
      "source": [
        "\n",
        "## 2. Tensor Operations\n",
        "\n",
        "**Objective**: Perform basic arithmetic operations and learn some advanced operations.\n",
        "\n",
        "**Exercises**:\n",
        "1. Add, subtract, multiply, and divide two tensors.\n",
        "2. Compute the mean and standard deviation of a tensor.\n",
        "3. Apply a non-linear activation function (like ReLU) to a tensor.\n",
        "4. Perform matrix multiplication between two 2-D tensors.\n"
      ]
    },
    {
      "cell_type": "code",
      "source": [
        "d2_tensor_1 = tf.constant([[1, 4, 2], [4, 5, 6], [7, 4, 9]])"
      ],
      "metadata": {
        "id": "H65eQyI465xq"
      },
      "id": "H65eQyI465xq",
      "execution_count": null,
      "outputs": []
    },
    {
      "cell_type": "code",
      "source": [
        "d2_tensor + d2_tensor_1, d2_tensor - d2_tensor_1, d2_tensor * d2_tensor_1, d2_tensor / d2_tensor_1"
      ],
      "metadata": {
        "id": "RwP6qj817Q0C",
        "outputId": "35387c98-55dd-4d1f-e8f4-11fffdf45a1b",
        "colab": {
          "base_uri": "https://localhost:8080/"
        }
      },
      "id": "RwP6qj817Q0C",
      "execution_count": null,
      "outputs": [
        {
          "output_type": "execute_result",
          "data": {
            "text/plain": [
              "(<tf.Tensor: shape=(3, 3), dtype=int32, numpy=\n",
              " array([[ 2,  6,  5],\n",
              "        [ 8, 10, 12],\n",
              "        [17,  8, 18]], dtype=int32)>,\n",
              " <tf.Tensor: shape=(3, 3), dtype=int32, numpy=\n",
              " array([[ 0, -2,  1],\n",
              "        [ 0,  0,  0],\n",
              "        [ 3,  0,  0]], dtype=int32)>,\n",
              " <tf.Tensor: shape=(3, 3), dtype=int32, numpy=\n",
              " array([[ 1,  8,  6],\n",
              "        [16, 25, 36],\n",
              "        [70, 16, 81]], dtype=int32)>,\n",
              " <tf.Tensor: shape=(3, 3), dtype=float64, numpy=\n",
              " array([[1.        , 0.5       , 1.5       ],\n",
              "        [1.        , 1.        , 1.        ],\n",
              "        [1.42857143, 1.        , 1.        ]])>)"
            ]
          },
          "metadata": {},
          "execution_count": 23
        }
      ]
    },
    {
      "cell_type": "code",
      "source": [
        "np.mean(d2_tensor), np.std(d2_tensor)"
      ],
      "metadata": {
        "id": "t80_IgR77nSj",
        "outputId": "5c720411-15e4-4ed0-f225-2a3f77eb721a",
        "colab": {
          "base_uri": "https://localhost:8080/"
        }
      },
      "id": "t80_IgR77nSj",
      "execution_count": null,
      "outputs": [
        {
          "output_type": "execute_result",
          "data": {
            "text/plain": [
              "(4.888888888888889, 2.8458329944145997)"
            ]
          },
          "metadata": {},
          "execution_count": 22
        }
      ]
    },
    {
      "cell_type": "code",
      "source": [
        "# prompt: apply ReLU to d2_tensor\n",
        "\n",
        "tf.nn.relu(d2_tensor)\n"
      ],
      "metadata": {
        "id": "jajyo8u77_KL",
        "outputId": "67082d9b-38cd-447f-9819-c5b6b755ff71",
        "colab": {
          "base_uri": "https://localhost:8080/"
        }
      },
      "id": "jajyo8u77_KL",
      "execution_count": null,
      "outputs": [
        {
          "output_type": "execute_result",
          "data": {
            "text/plain": [
              "<tf.Tensor: shape=(3, 3), dtype=int32, numpy=\n",
              "array([[ 1,  2,  3],\n",
              "       [ 4,  5,  6],\n",
              "       [10,  4,  9]], dtype=int32)>"
            ]
          },
          "metadata": {},
          "execution_count": 24
        }
      ]
    },
    {
      "cell_type": "code",
      "source": [
        "# prompt: apply matrix multiplication between d2_tensor and d2_tensor_1\n",
        "\n",
        "tf.matmul(d2_tensor, d2_tensor_1)\n"
      ],
      "metadata": {
        "id": "hHWIOsoy8Fxb",
        "outputId": "ba8c06c8-9757-4a4a-d276-7c57cb8e5fd1",
        "colab": {
          "base_uri": "https://localhost:8080/"
        }
      },
      "id": "hHWIOsoy8Fxb",
      "execution_count": null,
      "outputs": [
        {
          "output_type": "execute_result",
          "data": {
            "text/plain": [
              "<tf.Tensor: shape=(3, 3), dtype=int32, numpy=\n",
              "array([[ 30,  26,  41],\n",
              "       [ 66,  65,  92],\n",
              "       [ 89,  96, 125]], dtype=int32)>"
            ]
          },
          "metadata": {},
          "execution_count": 25
        }
      ]
    },
    {
      "cell_type": "markdown",
      "id": "d4bd1425",
      "metadata": {
        "id": "d4bd1425"
      },
      "source": [
        "\n",
        "## 3. Manipulating Tensor Shapes\n",
        "\n",
        "**Objective**: Learn how to reshape and transpose tensors.\n",
        "\n",
        "**Exercises**:\n",
        "1. Create a tensor of shape (4, 4), then reshape it to (2, 8).\n",
        "2. Transpose a 2-D tensor.\n",
        "3. Flatten a 3-D tensor to a 1-D tensor.\n"
      ]
    },
    {
      "cell_type": "code",
      "source": [
        "d4_tensor = tf.constant([[1, 2, 3, 4], [5, 6, 7, 8], [9, 10, 11, 12], [13, 14, 15, 16]])\n",
        "d4_tensor"
      ],
      "metadata": {
        "id": "hhaCZtF5FY6D",
        "outputId": "62af2333-d2e3-42aa-83d7-281828a0100e",
        "colab": {
          "base_uri": "https://localhost:8080/"
        }
      },
      "id": "hhaCZtF5FY6D",
      "execution_count": 3,
      "outputs": [
        {
          "output_type": "execute_result",
          "data": {
            "text/plain": [
              "<tf.Tensor: shape=(4, 4), dtype=int32, numpy=\n",
              "array([[ 1,  2,  3,  4],\n",
              "       [ 5,  6,  7,  8],\n",
              "       [ 9, 10, 11, 12],\n",
              "       [13, 14, 15, 16]], dtype=int32)>"
            ]
          },
          "metadata": {},
          "execution_count": 3
        }
      ]
    },
    {
      "cell_type": "code",
      "source": [
        "d4_tensor_28 = tf.reshape(d4_tensor, (2, 8))\n",
        "d4_tensor_28"
      ],
      "metadata": {
        "id": "hZ9UWgq8Fd7A",
        "outputId": "47e9d872-f810-4c54-f144-4e0df5a641c2",
        "colab": {
          "base_uri": "https://localhost:8080/"
        }
      },
      "id": "hZ9UWgq8Fd7A",
      "execution_count": 4,
      "outputs": [
        {
          "output_type": "execute_result",
          "data": {
            "text/plain": [
              "<tf.Tensor: shape=(2, 8), dtype=int32, numpy=\n",
              "array([[ 1,  2,  3,  4,  5,  6,  7,  8],\n",
              "       [ 9, 10, 11, 12, 13, 14, 15, 16]], dtype=int32)>"
            ]
          },
          "metadata": {},
          "execution_count": 4
        }
      ]
    },
    {
      "cell_type": "code",
      "source": [
        "d4_tensor_transpose = tf.transpose(d4_tensor)\n",
        "d4_tensor_transpose"
      ],
      "metadata": {
        "id": "k3MdAbeMFn3Y",
        "outputId": "aafeb6eb-af75-498c-ab6b-c28e2c542506",
        "colab": {
          "base_uri": "https://localhost:8080/"
        }
      },
      "id": "k3MdAbeMFn3Y",
      "execution_count": 5,
      "outputs": [
        {
          "output_type": "execute_result",
          "data": {
            "text/plain": [
              "<tf.Tensor: shape=(4, 4), dtype=int32, numpy=\n",
              "array([[ 1,  5,  9, 13],\n",
              "       [ 2,  6, 10, 14],\n",
              "       [ 3,  7, 11, 15],\n",
              "       [ 4,  8, 12, 16]], dtype=int32)>"
            ]
          },
          "metadata": {},
          "execution_count": 5
        }
      ]
    },
    {
      "cell_type": "code",
      "source": [
        "d4_tensor_flatten = tf.reshape(d4_tensor, (-1))\n",
        "d4_tensor_flatten"
      ],
      "metadata": {
        "id": "XVQp2_fvFuzg",
        "outputId": "2551a981-59e3-4e63-bacc-3e48b1ef3f66",
        "colab": {
          "base_uri": "https://localhost:8080/"
        }
      },
      "id": "XVQp2_fvFuzg",
      "execution_count": 6,
      "outputs": [
        {
          "output_type": "execute_result",
          "data": {
            "text/plain": [
              "<tf.Tensor: shape=(16,), dtype=int32, numpy=\n",
              "array([ 1,  2,  3,  4,  5,  6,  7,  8,  9, 10, 11, 12, 13, 14, 15, 16],\n",
              "      dtype=int32)>"
            ]
          },
          "metadata": {},
          "execution_count": 6
        }
      ]
    },
    {
      "cell_type": "markdown",
      "id": "7c2af7ed",
      "metadata": {
        "id": "7c2af7ed"
      },
      "source": [
        "\n",
        "## 4. Indexing and Slicing\n",
        "\n",
        "**Objective**: Access specific elements or slices of a tensor.\n",
        "\n",
        "**Exercises**:\n",
        "1. Extract a specific element from a tensor.\n",
        "2. Slice a portion of a tensor.\n",
        "3. Use boolean tensor indexing to filter elements.\n"
      ]
    },
    {
      "cell_type": "code",
      "source": [
        "d4_tensor[0,0]"
      ],
      "metadata": {
        "id": "EeN4m7Q1Fz8D",
        "outputId": "3b9d9437-10e4-4072-f8f8-708964619399",
        "colab": {
          "base_uri": "https://localhost:8080/"
        }
      },
      "id": "EeN4m7Q1Fz8D",
      "execution_count": 7,
      "outputs": [
        {
          "output_type": "execute_result",
          "data": {
            "text/plain": [
              "<tf.Tensor: shape=(), dtype=int32, numpy=1>"
            ]
          },
          "metadata": {},
          "execution_count": 7
        }
      ]
    },
    {
      "cell_type": "code",
      "source": [
        "# prompt: slice a portion of a tensor\n",
        "\n",
        "d4_tensor[:2, 2:]\n"
      ],
      "metadata": {
        "id": "vLP5c4iJGR0q",
        "outputId": "c6573498-b29b-4aae-ec3f-179030e6f33f",
        "colab": {
          "base_uri": "https://localhost:8080/"
        }
      },
      "id": "vLP5c4iJGR0q",
      "execution_count": 8,
      "outputs": [
        {
          "output_type": "execute_result",
          "data": {
            "text/plain": [
              "<tf.Tensor: shape=(2, 2), dtype=int32, numpy=\n",
              "array([[3, 4],\n",
              "       [7, 8]], dtype=int32)>"
            ]
          },
          "metadata": {},
          "execution_count": 8
        }
      ]
    },
    {
      "cell_type": "code",
      "source": [
        "d4_tensor_bool = d4_tensor[d4_tensor > 10]\n",
        "d4_tensor_bool"
      ],
      "metadata": {
        "id": "hzEYorryGjpa",
        "outputId": "74bedb10-ad77-4d1a-d174-32ecd1921c07",
        "colab": {
          "base_uri": "https://localhost:8080/"
        }
      },
      "id": "hzEYorryGjpa",
      "execution_count": 9,
      "outputs": [
        {
          "output_type": "execute_result",
          "data": {
            "text/plain": [
              "<tf.Tensor: shape=(6,), dtype=int32, numpy=array([11, 12, 13, 14, 15, 16], dtype=int32)>"
            ]
          },
          "metadata": {},
          "execution_count": 9
        }
      ]
    },
    {
      "cell_type": "markdown",
      "id": "dd6b95f3",
      "metadata": {
        "id": "dd6b95f3"
      },
      "source": [
        "\n",
        "## 5. Broadcasting\n",
        "\n",
        "**Objective**: Understand and apply broadcasting rules in tensor operations.\n",
        "\n",
        "**Exercises**:\n",
        "1. Perform an element-wise addition between tensors of different shapes.\n",
        "2. Broadcast a smaller tensor to match the shape of a larger tensor in an operation.\n"
      ]
    },
    {
      "cell_type": "markdown",
      "id": "978eb143",
      "metadata": {
        "id": "978eb143"
      },
      "source": [
        "\n",
        "## 6. Gradients and Differentiation\n",
        "\n",
        "**Objective**: Basic introduction to automatic differentiation.\n",
        "\n",
        "**Exercises**:\n",
        "1. Use `tf.GradientTape` to compute derivatives.\n",
        "2. Find the gradient of a simple function with respect to one of its inputs.\n"
      ]
    },
    {
      "cell_type": "markdown",
      "id": "5ca2545d",
      "metadata": {
        "id": "5ca2545d"
      },
      "source": [
        "\n",
        "## 7. Data Loading and Preprocessing\n",
        "\n",
        "**Objective**: Use `tf.data` for efficient data handling.\n",
        "\n",
        "**Exercises**:\n",
        "1. Create a simple dataset using `tf.data.Dataset`.\n",
        "2. Apply a transformation (like mapping) to the dataset.\n",
        "3. Batch and shuffle the dataset.\n"
      ]
    },
    {
      "cell_type": "code",
      "execution_count": null,
      "id": "FgxSOrQneCW6",
      "metadata": {
        "id": "FgxSOrQneCW6"
      },
      "outputs": [],
      "source": []
    }
  ],
  "metadata": {
    "colab": {
      "provenance": []
    },
    "kernelspec": {
      "display_name": "Python 3 (ipykernel)",
      "language": "python",
      "name": "python3"
    },
    "language_info": {
      "codemirror_mode": {
        "name": "ipython",
        "version": 3
      },
      "file_extension": ".py",
      "mimetype": "text/x-python",
      "name": "python",
      "nbconvert_exporter": "python",
      "pygments_lexer": "ipython3",
      "version": "3.10.6"
    }
  },
  "nbformat": 4,
  "nbformat_minor": 5
}